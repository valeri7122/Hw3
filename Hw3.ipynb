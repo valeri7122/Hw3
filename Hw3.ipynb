{
 "cells": [
  {
   "cell_type": "markdown",
   "metadata": {},
   "source": [
    "Функція гіпотези лінійної регресії у векторному вигляді:   $h(\\vec{x}) = \\vec{w}\\vec{x}$"
   ]
  },
  {
   "cell_type": "markdown",
   "metadata": {},
   "source": [
    "Градієнт функції втрат:   $∇J(\\vec{w}) = \\frac{1}{m}X^T(X\\vec{w} - \\vec{y})$"
   ]
  },
  {
   "cell_type": "markdown",
   "metadata": {},
   "source": [
    "Ітерація градієнтного спуску:   $\\vec{w} = \\vec{w}^{prew} - \\frac{\\alpha}{m}X^T(X\\vec{w} - \\vec{y})$"
   ]
  },
  {
   "cell_type": "code",
   "execution_count": 24,
   "metadata": {},
   "outputs": [
    {
     "data": {
      "text/html": [
       "<div>\n",
       "<style scoped>\n",
       "    .dataframe tbody tr th:only-of-type {\n",
       "        vertical-align: middle;\n",
       "    }\n",
       "\n",
       "    .dataframe tbody tr th {\n",
       "        vertical-align: top;\n",
       "    }\n",
       "\n",
       "    .dataframe thead th {\n",
       "        text-align: right;\n",
       "    }\n",
       "</style>\n",
       "<table border=\"1\" class=\"dataframe\">\n",
       "  <thead>\n",
       "    <tr style=\"text-align: right;\">\n",
       "      <th></th>\n",
       "      <th>price</th>\n",
       "      <th>area</th>\n",
       "      <th>bedrooms</th>\n",
       "      <th>bathrooms</th>\n",
       "      <th>stories</th>\n",
       "      <th>mainroad</th>\n",
       "      <th>guestroom</th>\n",
       "      <th>basement</th>\n",
       "      <th>hotwaterheating</th>\n",
       "      <th>airconditioning</th>\n",
       "      <th>parking</th>\n",
       "      <th>prefarea</th>\n",
       "      <th>furnishingstatus</th>\n",
       "    </tr>\n",
       "  </thead>\n",
       "  <tbody>\n",
       "    <tr>\n",
       "      <th>0</th>\n",
       "      <td>13300000</td>\n",
       "      <td>7420</td>\n",
       "      <td>4</td>\n",
       "      <td>2</td>\n",
       "      <td>3</td>\n",
       "      <td>yes</td>\n",
       "      <td>no</td>\n",
       "      <td>no</td>\n",
       "      <td>no</td>\n",
       "      <td>yes</td>\n",
       "      <td>2</td>\n",
       "      <td>yes</td>\n",
       "      <td>furnished</td>\n",
       "    </tr>\n",
       "    <tr>\n",
       "      <th>1</th>\n",
       "      <td>12250000</td>\n",
       "      <td>8960</td>\n",
       "      <td>4</td>\n",
       "      <td>4</td>\n",
       "      <td>4</td>\n",
       "      <td>yes</td>\n",
       "      <td>no</td>\n",
       "      <td>no</td>\n",
       "      <td>no</td>\n",
       "      <td>yes</td>\n",
       "      <td>3</td>\n",
       "      <td>no</td>\n",
       "      <td>furnished</td>\n",
       "    </tr>\n",
       "    <tr>\n",
       "      <th>2</th>\n",
       "      <td>12250000</td>\n",
       "      <td>9960</td>\n",
       "      <td>3</td>\n",
       "      <td>2</td>\n",
       "      <td>2</td>\n",
       "      <td>yes</td>\n",
       "      <td>no</td>\n",
       "      <td>yes</td>\n",
       "      <td>no</td>\n",
       "      <td>no</td>\n",
       "      <td>2</td>\n",
       "      <td>yes</td>\n",
       "      <td>semi-furnished</td>\n",
       "    </tr>\n",
       "    <tr>\n",
       "      <th>3</th>\n",
       "      <td>12215000</td>\n",
       "      <td>7500</td>\n",
       "      <td>4</td>\n",
       "      <td>2</td>\n",
       "      <td>2</td>\n",
       "      <td>yes</td>\n",
       "      <td>no</td>\n",
       "      <td>yes</td>\n",
       "      <td>no</td>\n",
       "      <td>yes</td>\n",
       "      <td>3</td>\n",
       "      <td>yes</td>\n",
       "      <td>furnished</td>\n",
       "    </tr>\n",
       "    <tr>\n",
       "      <th>4</th>\n",
       "      <td>11410000</td>\n",
       "      <td>7420</td>\n",
       "      <td>4</td>\n",
       "      <td>1</td>\n",
       "      <td>2</td>\n",
       "      <td>yes</td>\n",
       "      <td>yes</td>\n",
       "      <td>yes</td>\n",
       "      <td>no</td>\n",
       "      <td>yes</td>\n",
       "      <td>2</td>\n",
       "      <td>no</td>\n",
       "      <td>furnished</td>\n",
       "    </tr>\n",
       "  </tbody>\n",
       "</table>\n",
       "</div>"
      ],
      "text/plain": [
       "      price  area  bedrooms  bathrooms  stories mainroad guestroom basement  \\\n",
       "0  13300000  7420         4          2        3      yes        no       no   \n",
       "1  12250000  8960         4          4        4      yes        no       no   \n",
       "2  12250000  9960         3          2        2      yes        no      yes   \n",
       "3  12215000  7500         4          2        2      yes        no      yes   \n",
       "4  11410000  7420         4          1        2      yes       yes      yes   \n",
       "\n",
       "  hotwaterheating airconditioning  parking prefarea furnishingstatus  \n",
       "0              no             yes        2      yes        furnished  \n",
       "1              no             yes        3       no        furnished  \n",
       "2              no              no        2      yes   semi-furnished  \n",
       "3              no             yes        3      yes        furnished  \n",
       "4              no             yes        2       no        furnished  "
      ]
     },
     "execution_count": 24,
     "metadata": {},
     "output_type": "execute_result"
    }
   ],
   "source": [
    "import pandas as pd\n",
    "\n",
    "housing = pd.read_csv('Housing.csv')\n",
    "housing.head()"
   ]
  },
  {
   "cell_type": "code",
   "execution_count": 25,
   "metadata": {},
   "outputs": [
    {
     "name": "stdout",
     "output_type": "stream",
     "text": [
      "Прогнозована ціна: 7036627.15 dollars.\n"
     ]
    }
   ],
   "source": [
    "import numpy as np\n",
    "import sklearn\n",
    "from sklearn.linear_model import LinearRegression\n",
    "\n",
    "house = housing.loc[:, ['area', 'bedrooms', 'bathrooms']]\n",
    "regressor = LinearRegression().fit(house.values, housing['price'])\n",
    "price = regressor.predict(np.array([[7420, 4, 2]]))\n",
    "print(f\"Прогнозована ціна: {price[0]:.2f} dollars.\")"
   ]
  },
  {
   "cell_type": "code",
   "execution_count": 26,
   "metadata": {},
   "outputs": [
    {
     "name": "stdout",
     "output_type": "stream",
     "text": [
      "         area  bedrooms  bathrooms  ones\n",
      "0    1.045766  1.402131   1.420507     1\n",
      "1    1.755397  1.402131   5.400847     1\n",
      "2    2.216196  0.047235   1.420507     1\n",
      "3    1.082630  1.402131   1.420507     1\n",
      "4    1.045766  1.402131  -0.569663     1\n",
      "..        ...       ...        ...   ...\n",
      "540 -0.990968 -1.307661  -0.569663     1\n",
      "541 -1.267448  0.047235  -0.569663     1\n",
      "542 -0.705273 -1.307661  -0.569663     1\n",
      "543 -1.032440  0.047235  -0.569663     1\n",
      "544 -0.599289  0.047235  -0.569663     1\n",
      "\n",
      "[545 rows x 4 columns]\n"
     ]
    }
   ],
   "source": [
    "#Номалізація даних\n",
    "houseN = house.loc[:, [\"area\", \"bedrooms\", \"bathrooms\"]]\n",
    "houseN[\"area\"]=(house[\"area\"]-house[\"area\"].mean())/house[\"area\"].std()\n",
    "houseN[\"bedrooms\"]=(house[\"bedrooms\"]-house[\"bedrooms\"].mean())/house[\"bedrooms\"].std()\n",
    "houseN[\"bathrooms\"]=(house[\"bathrooms\"]-house[\"bathrooms\"].mean())/house[\"bathrooms\"].std()\n",
    "ones = np.ones((545), dtype=int)\n",
    "houseN[\"ones\"] = ones\n",
    "print(houseN)"
   ]
  },
  {
   "cell_type": "code",
   "execution_count": 27,
   "metadata": {
    "scrolled": true
   },
   "outputs": [
    {
     "name": "stdout",
     "output_type": "stream",
     "text": [
      "Прогнозована ціна: 7036627.20 dollars.\n",
      "Найкращі параметри w для нормованих даних: [ 821968.59826035  300259.17719431  696447.77192144 4766729.24770642]\n"
     ]
    }
   ],
   "source": [
    "def regression(data, weights, lmd):\n",
    "    for i in range(25):\n",
    "        weights = weights - lmd*np.dot(houseN.T, np.dot(houseN, weights) - housing['price'])/545\n",
    "        \n",
    "    area = (data[0]-house[\"area\"].mean())/house[\"area\"].std()\n",
    "    bedrooms = (data[1]-house[\"bedrooms\"].mean())/house[\"bedrooms\"].std()\n",
    "    bathrooms = (data[2]-house[\"bathrooms\"].mean())/house[\"bathrooms\"].std()\n",
    "\n",
    "    h = area*weights[0]+bedrooms*weights[1]+bathrooms*weights[2]+weights[3]\n",
    "    print(f\"Прогнозована ціна: {h:.2f} dollars.\")\n",
    "    print(f'Найкращі параметри w для нормованих даних: {weights}')\n",
    "\n",
    "    \n",
    "house_data = [7420, 4, 2]   \n",
    "initial_weights = [10, 10, 10, 10]\n",
    "learning_speed = 1\n",
    "\n",
    "regression(house_data, initial_weights, learning_speed)"
   ]
  },
  {
   "cell_type": "markdown",
   "metadata": {},
   "source": [
    "Таким чином можна побачити, що розрахунок прогнозованої ціни будинку з однаковим набором параметрів після 25 ітерацій збігається з розрахованою ціною за допомогою пакету sklearn."
   ]
  },
  {
   "cell_type": "markdown",
   "metadata": {},
   "source": [
    "Аналітичне рішення:   $\\vec{w}^* = (X^TX)^{-1}X^T\\vec{y}$"
   ]
  },
  {
   "cell_type": "code",
   "execution_count": 28,
   "metadata": {},
   "outputs": [
    {
     "name": "stdout",
     "output_type": "stream",
     "text": [
      "[ 821968.58935343  300259.16468032  696447.7589858  4766729.24770642]\n"
     ]
    }
   ],
   "source": [
    "w = np.dot(np.dot(np.linalg.inv(np.dot(houseN.T, houseN)), houseN.T), housing['price'])\n",
    "print(w)"
   ]
  },
  {
   "cell_type": "markdown",
   "metadata": {},
   "source": [
    "Отже, з цього розрахунку видно, що вагові коефіцієнти, знайдені за допомогою ітераційного методу, є рівними ваговим коефіцієнтам, знайденим за допомогою аналітичного рішення."
   ]
  },
  {
   "cell_type": "markdown",
   "metadata": {},
   "source": []
  }
 ],
 "metadata": {
  "colab": {
   "collapsed_sections": [],
   "name": "Task_ANNs_Classifier_BasicAI.ipynb",
   "provenance": [],
   "toc_visible": true
  },
  "coursera": {
   "course_slug": "neural-networks-deep-learning",
   "graded_item_id": "XaIWT",
   "launcher_item_id": "zAgPl"
  },
  "kernelspec": {
   "display_name": "Python 3 (ipykernel)",
   "language": "python",
   "name": "python3"
  },
  "language_info": {
   "codemirror_mode": {
    "name": "ipython",
    "version": 3
   },
   "file_extension": ".py",
   "mimetype": "text/x-python",
   "name": "python",
   "nbconvert_exporter": "python",
   "pygments_lexer": "ipython3",
   "version": "3.10.9"
  }
 },
 "nbformat": 4,
 "nbformat_minor": 1
}
